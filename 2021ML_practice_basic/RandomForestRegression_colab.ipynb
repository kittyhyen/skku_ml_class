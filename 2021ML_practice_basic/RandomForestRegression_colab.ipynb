{
  "nbformat": 4,
  "nbformat_minor": 0,
  "metadata": {
    "colab": {
      "name": "RandomForestRegression_visual_colab.ipynb",
      "provenance": [],
      "collapsed_sections": []
    },
    "kernelspec": {
      "display_name": "Python 3",
      "language": "python",
      "name": "python3"
    },
    "language_info": {
      "codemirror_mode": {
        "name": "ipython",
        "version": 3
      },
      "file_extension": ".py",
      "mimetype": "text/x-python",
      "name": "python",
      "nbconvert_exporter": "python",
      "pygments_lexer": "ipython3",
      "version": "3.6.4"
    }
  },
  "cells": [
    {
      "cell_type": "code",
      "metadata": {
        "colab": {
          "base_uri": "https://localhost:8080/"
        },
        "id": "JqSHrbw7q-Of",
        "outputId": "ed7f5bb1-3245-40c9-ca6b-65a55843ac3b"
      },
      "source": [
        "%matplotlib inline\n",
        "\n",
        "# 사용할 라이브러리를 불러옵니다.\n",
        "import numpy as np                                   # 배열(array)을 쉽게 사용하기 위한 라이브러리입니다.\n",
        "import pandas as pd                                  # 데이터를 쉽게 보고 사용하기 위한 라이브러리입니다.\n",
        "import matplotlib.pyplot as plt                      # 시각화 설정 클래스입니다.\n",
        "\n",
        "from sklearn.ensemble import RandomForestRegressor     # 사용할 머신러닝 알고리즘입니다.\n",
        "\n",
        "\n",
        "plt.rcParams['figure.figsize'] = [16, 8]\n",
        "\n",
        "# 학습 데이터를 불러옵니다.\n",
        "train = pd.read_csv('./sample_data/california_housing_train.csv', sep=',', encoding='utf-8')\n",
        "x_train = train.drop('median_house_value', axis=1).values\n",
        "y_train = train['median_house_value'].values\n",
        "\n",
        "# 테스트 데이터를 불러옵니다.\n",
        "test = pd.read_csv('./sample_data/california_housing_test.csv', sep=',', encoding='utf-8')\n",
        "x_test = test.drop('median_house_value', axis=1).values\n",
        "y_test = test['median_house_value'].values\n",
        "\n",
        "# 모델을 생성합니다.\n",
        "model = RandomForestRegressor()\n",
        "\n",
        "# 테스트 데이터로 모델을 학습합니다.\n",
        "model.fit(x_train, y_train)\n",
        "\n",
        "# 테스트 데이터로 예측합니다.\n",
        "pred = model.predict(x_test)\n",
        "test['prediction_house_value'] = pred\n",
        "\n",
        "# 테스트 데이터로 오차를 확인합니다.\n",
        "print('R-squared: ', model.score(x_test, y_test))"
      ],
      "execution_count": 13,
      "outputs": [
        {
          "output_type": "stream",
          "text": [
            "R-squared:  0.8077056852982339\n"
          ],
          "name": "stdout"
        }
      ]
    },
    {
      "cell_type": "code",
      "metadata": {
        "id": "yRj0pY0E2ifz"
      },
      "source": [
        ""
      ],
      "execution_count": 10,
      "outputs": []
    }
  ]
}