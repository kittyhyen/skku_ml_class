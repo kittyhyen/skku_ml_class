{
 "cells": [
  {
   "cell_type": "code",
   "execution_count": 2,
   "metadata": {
    "colab": {},
    "colab_type": "code",
    "id": "JqSHrbw7q-Of"
   },
   "outputs": [],
   "source": [
    "%matplotlib inline\n",
    "\n",
    "# 사용할 라이브러리를 불러옵니다.\n",
    "import numpy as np                                      # 배열(array)을 쉽게 사용하기 위한 라이브러리입니다.\n",
    "import pandas as pd                                     # 데이터를 쉽게 보고 사용하기 위한 라이브러리입니다.\n",
    "import matplotlib.pyplot as plt\n",
    "\n",
    "from sklearn.naive_bayes import GaussianNB              # 사용할 머신러닝 알고리즘입니다.\n",
    "from sklearn.metrics import classification_report, plot_confusion_matrix\n",
    "\n",
    "plt.rcParams['figure.figsize'] = [16, 8]\n",
    "\n",
    "# 학습 데이터를 불러옵니다.\n",
    "train = pd.read_csv('./train.csv', sep=',', encoding='utf-8')\n",
    "x_train = train.drop(['target', 'species'], axis=1).values\n",
    "y_train = train['target'].values\n",
    "\n",
    "# 테스트 데이터를 불러옵니다.\n",
    "test = pd.read_csv('./test.csv', sep=',', encoding='utf-8')\n",
    "x_test = test.drop(['target', 'species'], axis=1).values\n",
    "y_test = test['target'].values\n",
    "\n",
    "# Gaussian Naive Bayes 분류기를 생성합니다.\n",
    "model = GaussianNB()\n",
    "\n",
    "# K-Nearest Neighbor 분류기를 학습합니다.\n",
    "model.fit(\n",
    "    X=x_train,\n",
    "    y=y_train\n",
    ")\n",
    "\n",
    "# 테스트 데이터로 예측합니다.\n",
    "pred = model.predict(x_test)\n",
    "test['prediction'] = pred\n",
    "test['prediction_species'] = test['prediction'].replace({0: 'Adelie', 1: 'Chinstrap', 2: 'Gentoo'})\n",
    "\n",
    "# 테스트 데이터로 정확성을 확인합니다.\n",
    "print('Accuracy: ', model.score(x_test, y_test) * 100)"
   ]
  },
  {
   "cell_type": "code",
   "execution_count": 15,
   "metadata": {
    "colab": {
     "base_uri": "https://localhost:8080/",
     "height": 519
    },
    "colab_type": "code",
    "executionInfo": {
     "elapsed": 1190,
     "status": "ok",
     "timestamp": 1582006054200,
     "user": {
      "displayName": "MANNSOO HONG",
      "photoUrl": "https://lh3.googleusercontent.com/a-/AAuE7mAL9n2q_fEuAkxQGCUPVWjIHcLW9T5PGHU_mtiR=s64",
      "userId": "17957710327556825549"
     },
     "user_tz": -540
    },
    "id": "MAR7iWvDtLau",
    "outputId": "467820a4-8d18-4ecd-a230-946ebc19af3c"
   },
   "outputs": [
    {
     "data": {
      "text/plain": [
       "<Figure size 1152x576 with 0 Axes>"
      ]
     },
     "metadata": {
      "tags": []
     },
     "output_type": "display_data"
    },
    {
     "data": {
      "image/png": "[encoded data removed]",
      "text/plain": [
       "<Figure size 1152x576 with 2 Axes>"
      ]
     },
     "metadata": {
      "tags": []
     },
     "output_type": "display_data"
    }
   ],
   "source": [
    "# Confusion matrix를 시각화합니다.\n",
    "plt.figure()\n",
    "plot_confusion_matrix(\n",
    "    model,\n",
    "    xte,\n",
    "    yte,\n",
    "    display_labels=['setosa', 'versicolor', 'virginica'],\n",
    "    cmap=plt.cm.Blues\n",
    ")\n",
    "plt.show()"
   ]
  },
  {
   "cell_type": "code",
   "execution_count": 0,
   "metadata": {
    "colab": {},
    "colab_type": "code",
    "id": "USHjmDPZ6ACs"
   },
   "outputs": [],
   "source": []
  }
 ],
 "metadata": {
  "colab": {
   "authorship_tag": "ABX9TyNNyJhC9IWnwyJkNsb6t+e7",
   "collapsed_sections": [],
   "name": "gaussianNaiveBayes_colab.ipynb",
   "provenance": []
  },
  "kernelspec": {
   "display_name": "Python 3",
   "language": "python",
   "name": "python3"
  },
  "language_info": {
   "codemirror_mode": {
    "name": "ipython",
    "version": 3
   },
   "file_extension": ".py",
   "mimetype": "text/x-python",
   "name": "python",
   "nbconvert_exporter": "python",
   "pygments_lexer": "ipython3",
   "version": "3.6.4"
  }
 },
 "nbformat": 4,
 "nbformat_minor": 1
}
