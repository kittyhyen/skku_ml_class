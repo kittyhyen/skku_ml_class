{
 "cells": [
  {
   "cell_type": "code",
   "execution_count": 1,
   "metadata": {
    "colab": {
     "base_uri": "https://localhost:8080/"
    },
    "executionInfo": {
     "elapsed": 1846,
     "status": "ok",
     "timestamp": 1612174798956,
     "user": {
      "displayName": "성균관대학교홍만수",
      "photoUrl": "",
      "userId": "05963146355021129777"
     },
     "user_tz": -540
    },
    "id": "JqSHrbw7q-Of",
    "outputId": "b47c31ee-c5ab-4178-cd6e-695ce0dc3d50"
   },
   "outputs": [
    {
     "name": "stdout",
     "output_type": "stream",
     "text": [
      "Accuracy:  100.0\n"
     ]
    }
   ],
   "source": [
    "%matplotlib inline\n",
    "\n",
    "사용할 라이브러리를 불러옵니다.\n",
    "import numpy as np                                     # 배열(array)을 쉽게 사용하기 위한 라이브러리입니다.\n",
    "import pandas as pd                                    # 데이터를 쉽게 보고 사용하기 위한 라이브러리입니다.\n",
    "import matplotlib.pyplot as plt                        # 시각화 설정 클래스입니다.\n",
    "\n",
    "from sklearn.ensemble import RandomForestClassifier    # 사용할 머신러닝 알고리즘입니다.\n",
    "from sklearn.metrics import plot_confusion_matrix      # 모델 성능평가를 위한 함수입니다.\n",
    "\n",
    "\n",
    "plt.rcParams['figure.figsize'] = [16, 8]\n",
    "\n",
    "# 학습 데이터를 불러옵니다.\n",
    "train = pd.read_csv('./train.csv', sep=',', encoding='utf-8')\n",
    "x_train = train.drop(['target', 'species'], axis=1).values\n",
    "y_train = train['species'].values\n",
    "\n",
    "# 테스트 데이터를 불러옵니다.\n",
    "test = pd.read_csv('./test.csv', sep=',', encoding='utf-8')\n",
    "x_test = test.drop(['target', 'species'], axis=1).values\n",
    "y_test = test['species'].values\n",
    "\n",
    "# 사용할 알고리즘을 불러옵니다.\n",
    "model = RandomForestClassifier(\n",
    "    n_estimators=100,       # 랜덤포레스트를 구성할 의사결정나무의 수를 결정합니다.\n",
    "    max_depth=None,         # 의사결정나무의 최대깊이를 결정합니다.\n",
    "    n_jobs=-1               # 사용할 프로세서 수를 결정합니다.\n",
    ")\n",
    "\n",
    "# 학습 데이터로 모델을 학습합니다.\n",
    "model.fit(x_train, y_train)\n",
    "\n",
    "# 테스트 데이터로 예측합니다.\n",
    "pred = model.predict(x_test)\n",
    "test['prediction'] = pred\n",
    "\n",
    "# 테스트 데이터로 정확성을 확인합니다.\n",
    "print('Accuracy: ', model.score(x_test, y_test) * 100)"
   ]
  },
  {
   "cell_type": "code",
   "execution_count": 2,
   "metadata": {
    "colab": {
     "base_uri": "https://localhost:8080/",
     "height": 297
    },
    "executionInfo": {
     "elapsed": 2157,
     "status": "ok",
     "timestamp": 1612174799278,
     "user": {
      "displayName": "성균관대학교홍만수",
      "photoUrl": "",
      "userId": "05963146355021129777"
     },
     "user_tz": -540
    },
    "id": "MAR7iWvDtLau",
    "outputId": "b7a8059a-90f2-476a-b354-40ab71f9edce"
   },
   "outputs": [
    {
     "data": {
      "text/plain": [
       "<Figure size 432x288 with 0 Axes>"
      ]
     },
     "metadata": {
      "tags": []
     },
     "output_type": "display_data"
    },
    {
     "data": {
      "image/png": "[encoded data removed]",
      "text/plain": [
       "<Figure size 432x288 with 2 Axes>"
      ]
     },
     "metadata": {
      "needs_background": "light",
      "tags": []
     },
     "output_type": "display_data"
    }
   ],
   "source": [
    "plt.figure()\n",
    "plot_confusion_matrix(\n",
    "    model,\n",
    "    x_test,\n",
    "    y_test,\n",
    "    display_labels=['Adelie', 'Chinstrap', 'Gentoo'],\n",
    "    cmap=plt.cm.Blues\n",
    ")\n",
    "plt.show()"
   ]
  },
  {
   "cell_type": "code",
   "execution_count": 2,
   "metadata": {
    "executionInfo": {
     "elapsed": 2157,
     "status": "ok",
     "timestamp": 1612174799280,
     "user": {
      "displayName": "성균관대학교홍만수",
      "photoUrl": "",
      "userId": "05963146355021129777"
     },
     "user_tz": -540
    },
    "id": "7P7Thl0V32WY"
   },
   "outputs": [],
   "source": []
  }
 ],
 "metadata": {
  "colab": {
   "collapsed_sections": [],
   "name": "randomForest_colab.ipynb",
   "provenance": []
  },
  "kernelspec": {
   "display_name": "Python 3",
   "language": "python",
   "name": "python3"
  },
  "language_info": {
   "codemirror_mode": {
    "name": "ipython",
    "version": 3
   },
   "file_extension": ".py",
   "mimetype": "text/x-python",
   "name": "python",
   "nbconvert_exporter": "python",
   "pygments_lexer": "ipython3",
   "version": "3.6.4"
  }
 },
 "nbformat": 4,
 "nbformat_minor": 1
}
