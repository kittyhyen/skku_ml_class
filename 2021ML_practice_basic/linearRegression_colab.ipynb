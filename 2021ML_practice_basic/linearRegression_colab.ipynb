{
 "cells": [
  {
   "cell_type": "code",
   "execution_count": 7,
   "metadata": {
    "colab": {
     "base_uri": "https://localhost:8080/"
    },
    "executionInfo": {
     "elapsed": 708,
     "status": "ok",
     "timestamp": 1612180177605,
     "user": {
      "displayName": "성균관대학교홍만수",
      "photoUrl": "",
      "userId": "05963146355021129777"
     },
     "user_tz": -540
    },
    "id": "9g2PHopbd8tk",
    "outputId": "24e361fa-1e7d-4913-8e48-70270af74ab1"
   },
   "outputs": [
    {
     "name": "stdout",
     "output_type": "stream",
     "text": [
      "R-squared:  0.6195057678312047\n"
     ]
    }
   ],
   "source": [
    "%matplotlib inline\n",
    "\n",
    "# 사용할 라이브러리를 불러옵니다.\n",
    "import numpy as np\n",
    "import pandas as pd\n",
    "import matplotlib.pyplot as plt\n",
    "\n",
    "from sklearn.linear_model import LinearRegression\n",
    "\n",
    "plt.rcParams['figure.figsize'] = [16, 8]\n",
    "\n",
    "\n",
    "# 학습 데이터를 불러옵니다.\n",
    "train = pd.read_csv('./sample_data/california_housing_train.csv', sep=',', encoding='utf-8')\n",
    "x_train = train.drop('median_house_value', axis=1).values\n",
    "y_train = train['median_house_value'].values\n",
    "\n",
    "# 테스트 데이터를 불러옵니다.\n",
    "test = pd.read_csv('./sample_data/california_housing_test.csv', sep=',', encoding='utf-8')\n",
    "x_test = test.drop('median_house_value', axis=1).values\n",
    "y_test = test['median_house_value'].values\n",
    "\n",
    "# 다중 선형회귀 모델을 생성합니다.\n",
    "lnr = LinearRegression(\n",
    "    fit_intercept=True,\n",
    "    normalize=False,\n",
    "    copy_X=True,\n",
    "    n_jobs=-1\n",
    ")\n",
    "\n",
    "# 학습 데이터로 학습합니다.\n",
    "lnr.fit(\n",
    "    X=x_train,\n",
    "    y=y_train\n",
    ")\n",
    "\n",
    "# 테스트 데이터로 예측합니다.\n",
    "pred = lnr.predict(x_test)\n",
    "test['prediction_house_value'] = pred\n",
    "print('R-squared: ', lnr.score(x_test, y_test))"
   ]
  },
  {
   "cell_type": "code",
   "execution_count": null,
   "metadata": {
    "executionInfo": {
     "elapsed": 932,
     "status": "aborted",
     "timestamp": 1612180177842,
     "user": {
      "displayName": "성균관대학교홍만수",
      "photoUrl": "",
      "userId": "05963146355021129777"
     },
     "user_tz": -540
    },
    "id": "cuwsoDIxeXZk"
   },
   "outputs": [],
   "source": []
  }
 ],
 "metadata": {
  "colab": {
   "collapsed_sections": [],
   "name": "linearRegression_colab.ipynb",
   "provenance": []
  },
  "kernelspec": {
   "display_name": "Python 3",
   "language": "python",
   "name": "python3"
  },
  "language_info": {
   "codemirror_mode": {
    "name": "ipython",
    "version": 3
   },
   "file_extension": ".py",
   "mimetype": "text/x-python",
   "name": "python",
   "nbconvert_exporter": "python",
   "pygments_lexer": "ipython3",
   "version": "3.6.4"
  }
 },
 "nbformat": 4,
 "nbformat_minor": 1
}
